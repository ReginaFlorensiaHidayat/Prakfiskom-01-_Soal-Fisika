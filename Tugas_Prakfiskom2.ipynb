{
  "nbformat": 4,
  "nbformat_minor": 0,
  "metadata": {
    "colab": {
      "provenance": []
    },
    "kernelspec": {
      "name": "python3",
      "display_name": "Python 3"
    },
    "language_info": {
      "name": "python"
    }
  },
  "cells": [
    {
      "cell_type": "markdown",
      "source": [
        "### Soal\n",
        "Sebuah bola kasti bergerak dengan kecepatan rata - rata dengan kecepatan 180$km/jam$. Berapa detik bola tersebut akan mengenai sebuah tonggak yang terletak pada jarak 60$m$ dari tempat bola tersebut dipukul?"
      ],
      "metadata": {
        "id": "5-74ylKfnZoB"
      }
    },
    {
      "cell_type": "markdown",
      "source": [
        "**Jawab** \\\\\n",
        "$ v = 180 km/jam = 180 \\times (1000m \\times 3600s)  = 30m/s $ \\\\\n",
        "$ t = \\frac{s}{v} = \\frac{60}{30} = 2s $ \\\\\n",
        "\n"
      ],
      "metadata": {
        "id": "zP4y6E_Mn-Hi"
      }
    },
    {
      "cell_type": "code",
      "source": [
        "# v =  s/t\n",
        "v = 180 km/jam\n",
        "s = 60 m\n",
        "\n",
        "# v (m/s)\n",
        "v2 = 180 * (1000 * 3600)\n",
        "print(v2, \"m/s\")\n",
        "\n",
        "t = s / v2\n",
        "print(t, \"s\")"
      ],
      "metadata": {
        "id": "TH8-cnKyktv9"
      },
      "execution_count": null,
      "outputs": []
    },
    {
      "cell_type": "markdown",
      "source": [],
      "metadata": {
        "id": "dRzZGnFg_fSk"
      }
    }
  ]
}